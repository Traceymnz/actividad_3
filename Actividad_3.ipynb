{
  "nbformat": 4,
  "nbformat_minor": 0,
  "metadata": {
    "colab": {
      "provenance": []
    },
    "kernelspec": {
      "name": "python3",
      "display_name": "Python 3"
    },
    "language_info": {
      "name": "python"
    }
  },
  "cells": [
    {
      "cell_type": "markdown",
      "source": [
        "\n",
        "# Prácticas Profesionalizantes 2024\n",
        "EEST 9\n",
        "\n",
        "# Actividad 3"
      ],
      "metadata": {
        "id": "Vdl_txP_7LtD"
      }
    },
    {
      "cell_type": "markdown",
      "source": [
        "## Trabajo en grupo entre 2 o 3 estudiantes\n",
        "Indicar los nombres y los links de los repositorios de la actividad 2 de los integrantes:\n",
        "* Rosso Aylén: https://github.com/Aylu222/Diccionario-.git\n",
        "* Silva Morena: https://github.com/SilvaMorena/actividad_3.git\n",
        "* Monzón Tracey:"
      ],
      "metadata": {
        "id": "Pxb1o18H7UKU"
      }
    },
    {
      "cell_type": "markdown",
      "source": [
        "# Python y Colab\n",
        "* Se utilizará **Python** y este documento de **Google Colab** para resolver el ejercicio.\n",
        "* Para que la tarea se considere entregada se deberá poner el link del documento colab, con las soluciones, en la tarea de **todos** los integrantes.\n",
        "\n",
        "El ejercicio es **procesar texto** largo para identificar líneas, caracteres específicos y generar un diccionario con los nombres de los integrantes.\n",
        "\n",
        "1. Se deberá realizar una **copia** de este documento antes de comenzar a modificar\n",
        "2. A lo largo del documetno se pedirá que responda preguntas y realice código, completar en la copia realizada con lo solicitado.\n",
        "3. Copiar el texto de los archivos subidos en los repositorios individuales utilizados en la actividad 1,  de cada integrante de este grupo en una sola **variable de texto.**\n",
        "4. Antes del texto de cada integrante se deberá poner el nombre correspondiente y luego agregar el caracter *\n"
      ],
      "metadata": {
        "id": "kufnxVG474V2"
      }
    },
    {
      "cell_type": "markdown",
      "source": [
        "Respetar el siguiente formato del texto para guardarlo de esa forma en la variable:\n",
        "\n",
        "Nombre1*\n",
        "\n",
        "Título:\n",
        "\n",
        "Diversión:\n",
        "\n",
        "Familia:\n",
        "\n",
        "Amigos:\n",
        "\n",
        "Medios:\n",
        "\n",
        "Tecnología:\n",
        "\n",
        "Nombre2*"
      ],
      "metadata": {
        "id": "0FVpFUsJMpGJ"
      }
    },
    {
      "cell_type": "code",
      "source": [
        "# completar con sus textos\n",
        "texto_completo = '''Aylén*\n",
        "\n",
        "Titulo: Cine\n",
        "\n",
        "Diversión: Este hobby me gusta porque ves el mundo del cine, podes observar los efectos especiales y sorprenderte de la evolusion de ellos, además te distrae de la realidad\n",
        "\n",
        "Familia: Este hobby lo comparto con una de mis hermanas y mi papá\n",
        "\n",
        "Amigos: A este hobby no lo comparto con mis amigos, ya que cada uno tiene sus responsablidades y se complica\n",
        "\n",
        "Medios: Busco informacion sobre este hobby en google, en los sitios web de las plataformas de streaming o enlas redes sociales(instagram, tiktok, twitter, etc)\n",
        "\n",
        "Tecnología: La tecnología ha facilitado el acceso a realizar este hobby ya que hay pantallas mas avanzadas, proyectores de alta definición, han adoptado de ella para ofrecer proyecciones en 3D y 4D. Un informe de noticias dice que el este hobby es realizado más por mujeres que por hombres.\n",
        "\n",
        "Tracey*\n",
        "\n",
        "Titulo: Danza\n",
        "\n",
        "Diversión: Bailar me gusto desde siempre, para mi es una forma de expresarme y liberar mis emociones, es algo que me apasiona desde la primera clase que tome a mis 11 años, desde entonces formo parte de mi vida y siento que se volvio algo muy significativo parte mi\n",
        "\n",
        "Familia: Comparto la danza con mi papá, a el siempre le gusto, decia que era un sueño para el poder dedicarse a bailar\n",
        "\n",
        "Amigos: Salimos a bailar minimo 1 vez a la semana, en esos momento comparto este hobby con ellos\n",
        "\n",
        "Medios: Suelo ver contenido de este hobby a través de reded sociales, en especial tik tok\n",
        "\n",
        "Tecnología:La tecnologia facilita mucho este hobby ya que con esta se pone la musica para bailar o incluso si quiero aprender nuevas cosas simplemente lo puedo ver en el celular.\n",
        "\n",
        "Morena*\n",
        "\n",
        "Tiyulo: Fútbol\n",
        "\n",
        "Diversión: Este es mi Hobby favorito, ya que es un deporte que hago desde chica y que hasta el dia de hoy me hace la persona mas feliz del mundo.\n",
        "\n",
        "Familia: este Hobby lo comparto con casi toda mi familia, ya que somos todos unos apacionados del Fútbol.\n",
        "\n",
        "Amigos: todos los días de mi vida, ya que es un deporte que practico\n",
        "\n",
        "Medios: Busco informacion sobre este deporte por instagram, twitter, youtube,etc.\n",
        "\n",
        "Tecnología: la tecnología le a facilitado un poco el trabajo a los arbitros, a traves del Var, ya que cuentan con aparatos tecnológicos que te dicen si el jugador esta adelantado o no, entre otras cosas. Hoy en día las mujeres vienen creciendo mucho en el Fútbol y cada vez son más las que se animan a practicarlo, pero todavia estamos muy lejos de alcanzar el gran número de los hombres.'''"
      ],
      "metadata": {
        "id": "_y9xVFhj9Heq"
      },
      "execution_count": null,
      "outputs": []
    },
    {
      "cell_type": "markdown",
      "source": [
        "## Procesamiento\n",
        "* Procesar la variable de texto y generar una estructura que permita acceder directamente con el nombre del integrante:\n",
        "\n",
        "**Nombre1**: **texto del hobby**\n",
        "* Nota: Para guardar la key con el nombre preguntar si en la línea contiene el caracter \"*\""
      ],
      "metadata": {
        "id": "VehRQ8fHNTTe"
      }
    },
    {
      "cell_type": "markdown",
      "source": [
        "Para poder concatenar texto debo ir agregando los textos de cada linea, les dejo un ejemplo"
      ],
      "metadata": {
        "id": "NyZsweS_T_83"
      }
    },
    {
      "cell_type": "code",
      "source": [
        "contenido = ''\n",
        "contenido = contenido + 'hola'\n",
        "contenido"
      ],
      "metadata": {
        "id": "WuaOM40fTtW0",
        "colab": {
          "base_uri": "https://localhost:8080/",
          "height": 35
        },
        "outputId": "705ca620-b012-4f92-c2eb-e1edc8f203a7"
      },
      "execution_count": null,
      "outputs": [
        {
          "output_type": "execute_result",
          "data": {
            "text/plain": [
              "'hola'"
            ],
            "application/vnd.google.colaboratory.intrinsic+json": {
              "type": "string"
            }
          },
          "metadata": {},
          "execution_count": 5
        }
      ]
    },
    {
      "cell_type": "code",
      "source": [
        "contenido = contenido + ' mas texto'\n",
        "contenido"
      ],
      "metadata": {
        "colab": {
          "base_uri": "https://localhost:8080/",
          "height": 35
        },
        "id": "h1a_Lo7dT3SC",
        "outputId": "1ef98e7c-1f16-4877-fb29-0fbc7d666f99"
      },
      "execution_count": null,
      "outputs": [
        {
          "output_type": "execute_result",
          "data": {
            "text/plain": [
              "'holamas texto'"
            ],
            "application/vnd.google.colaboratory.intrinsic+json": {
              "type": "string"
            }
          },
          "metadata": {},
          "execution_count": 6
        }
      ]
    },
    {
      "cell_type": "code",
      "source": [
        "#separo en líneas la variable de texto\n",
        "textoSeparado = texto_completo.splitlines()\n",
        "\n",
        "#creo mi diccionario\n",
        "\n",
        "mi_dict = {}\n",
        "\n",
        "# recorro la variable con los elementos, encontrando las líneas que contiene el caracter *\n",
        "\n",
        "for i in textoSeparado:\n",
        "  if \"*\" in i:\n",
        "    integrante = i.replace('*', '')\n",
        "    mi_dict[integrante] = ''\n",
        "  else:\n",
        "    mi_dict[integrante] = mi_dict[integrante]+' '+ i\n",
        "\n",
        "print(mi_dict)\n",
        "\n",
        "# si la linea no contiene * voy agregando a una variable de texto el contenido de ese hobby"
      ],
      "metadata": {
        "id": "_ddIprgtFkYQ",
        "colab": {
          "base_uri": "https://localhost:8080/"
        },
        "outputId": "fd88d1c5-fe19-445c-9216-913b81f69083"
      },
      "execution_count": null,
      "outputs": [
        {
          "output_type": "stream",
          "name": "stdout",
          "text": [
            "{'Aylén': '  Titulo: Cine  Diversión: Este hobby me gusta porque ves el mundo del cine, podes observar los efectos especiales y sorprenderte de la evolusion de ellos, además te distrae de la realidad  Familia: Este hobby lo comparto con una de mis hermanas y mi papá  Amigos: A este hobby no lo comparto con mis amigos, ya que cada uno tiene sus responsablidades y se complica  Medios: Busco informacion sobre este hobby en google, en los sitios web de las plataformas de streaming o enlas redes sociales(instagram, tiktok, twitter, etc)  Tecnología: La tecnología ha facilitado el acceso a realizar este hobby ya que hay pantallas mas avanzadas, proyectores de alta definición, han adoptado de ella para ofrecer proyecciones en 3D y 4D. Un informe de noticias dice que el este hobby es realizado más por mujeres que por hombres. ', 'Tracey': '  Titulo: Danza  Diversión: Bailar me gusto desde siempre, para mi es una forma de expresarme y liberar mis emociones, es algo que me apasiona desde la primera clase que tome a mis 11 años, desde entonces formo parte de mi vida y siento que se volvio algo muy significativo parte mi  Familia: Comparto la danza con mi papá, a el siempre le gusto, decia que era un sueño para el poder dedicarse a bailar  Amigos: Salimos a bailar minimo 1 vez a la semana, en esos momento comparto este hobby con ellos  Medios: Suelo ver contenido de este hobby a través de reded sociales, en especial tik tok  Tecnología:La tecnologia facilita mucho este hobby ya que con esta se pone la musica para bailar o incluso si quiero aprender nuevas cosas simplemente lo puedo ver en el celular. ', 'Morena': '  Tiyulo: Fútbol  Diversión: Este es mi Hobby favorito, ya que es un deporte que hago desde chica y que hasta el dia de hoy me hace la persona mas feliz del mundo.  Familia: este Hobby lo comparto con casi toda mi familia, ya que somos todos unos apacionados del Fútbol.  Amigos: todos los días de mi vida, ya que es un deporte que practico  Medios: Busco informacion sobre este deporte por instagram, twitter, youtube,etc.  Tecnología: la tecnología le a facilitado un poco el trabajo a los arbitros, a traves del Var, ya que cuentan con aparatos tecnológicos que te dicen si el jugador esta adelantado o no, entre otras cosas. Hoy en día las mujeres vienen creciendo mucho en el Fútbol y cada vez son más las que se animan a practicarlo, pero todavia estamos muy lejos de alcanzar el gran número de los hombres.'}\n"
          ]
        }
      ]
    },
    {
      "cell_type": "markdown",
      "source": [
        "* Indicar cuáles son las keys y cuáles los valores del diccionario"
      ],
      "metadata": {
        "id": "fz3ki8y7S2qR"
      }
    },
    {
      "cell_type": "code",
      "source": [
        "#completar con el ćodigo\n",
        "#Muestra las keys\n",
        "for integrante in mi_dict:\n",
        "  print(integrante)\n",
        "\n",
        "#Muestra los value\n",
        "for integrante in mi_dict:\n",
        "  print(mi_dict[integrante])"
      ],
      "metadata": {
        "id": "V9VNRJnvS8lj",
        "colab": {
          "base_uri": "https://localhost:8080/"
        },
        "outputId": "92ea1e76-69be-4a06-c524-442111bb5eae"
      },
      "execution_count": null,
      "outputs": [
        {
          "output_type": "stream",
          "name": "stdout",
          "text": [
            "Aylén\n",
            "Tracey\n",
            "Morena\n",
            "  Titulo: Cine  Diversión: Este hobby me gusta porque ves el mundo del cine, podes observar los efectos especiales y sorprenderte de la evolusion de ellos, además te distrae de la realidad  Familia: Este hobby lo comparto con una de mis hermanas y mi papá  Amigos: A este hobby no lo comparto con mis amigos, ya que cada uno tiene sus responsablidades y se complica  Medios: Busco informacion sobre este hobby en google, en los sitios web de las plataformas de streaming o enlas redes sociales(instagram, tiktok, twitter, etc)  Tecnología: La tecnología ha facilitado el acceso a realizar este hobby ya que hay pantallas mas avanzadas, proyectores de alta definición, han adoptado de ella para ofrecer proyecciones en 3D y 4D. Un informe de noticias dice que el este hobby es realizado más por mujeres que por hombres. \n",
            "  Titulo: Danza  Diversión: Bailar me gusto desde siempre, para mi es una forma de expresarme y liberar mis emociones, es algo que me apasiona desde la primera clase que tome a mis 11 años, desde entonces formo parte de mi vida y siento que se volvio algo muy significativo parte mi  Familia: Comparto la danza con mi papá, a el siempre le gusto, decia que era un sueño para el poder dedicarse a bailar  Amigos: Salimos a bailar minimo 1 vez a la semana, en esos momento comparto este hobby con ellos  Medios: Suelo ver contenido de este hobby a través de reded sociales, en especial tik tok  Tecnología:La tecnologia facilita mucho este hobby ya que con esta se pone la musica para bailar o incluso si quiero aprender nuevas cosas simplemente lo puedo ver en el celular. \n",
            "  Tiyulo: Fútbol  Diversión: Este es mi Hobby favorito, ya que es un deporte que hago desde chica y que hasta el dia de hoy me hace la persona mas feliz del mundo.  Familia: este Hobby lo comparto con casi toda mi familia, ya que somos todos unos apacionados del Fútbol.  Amigos: todos los días de mi vida, ya que es un deporte que practico  Medios: Busco informacion sobre este deporte por instagram, twitter, youtube,etc.  Tecnología: la tecnología le a facilitado un poco el trabajo a los arbitros, a traves del Var, ya que cuentan con aparatos tecnológicos que te dicen si el jugador esta adelantado o no, entre otras cosas. Hoy en día las mujeres vienen creciendo mucho en el Fútbol y cada vez son más las que se animan a practicarlo, pero todavia estamos muy lejos de alcanzar el gran número de los hombres.\n"
          ]
        }
      ]
    },
    {
      "cell_type": "markdown",
      "source": [
        "* Indicar la longitud del diccionario\n"
      ],
      "metadata": {
        "id": "GhafOMUlNuNi"
      }
    },
    {
      "cell_type": "code",
      "source": [
        "#completar con el código para indicar la longitud\n",
        "\n",
        "#Muestra La cantidad de caracteres de cada value\n",
        "for integrante in mi_dict:\n",
        "  print(len(mi_dict[integrante]))\n",
        "\n",
        "print('')\n",
        "\n",
        "#Muestra los caracteres de cada key\n",
        "for integrante in mi_dict:\n",
        "  print(len(integrante))\n",
        "\n",
        "#Muestra la cantidad de elementos del diccionario\n",
        "print('')\n",
        "print(len(mi_dict))"
      ],
      "metadata": {
        "id": "NbxzdmPRSPTN",
        "colab": {
          "base_uri": "https://localhost:8080/"
        },
        "outputId": "f2ed734b-0b49-48cd-d195-8fd3ebdbc056"
      },
      "execution_count": null,
      "outputs": [
        {
          "output_type": "stream",
          "name": "stdout",
          "text": [
            "819\n",
            "772\n",
            "813\n",
            "\n",
            "5\n",
            "6\n",
            "6\n",
            "\n",
            "3\n"
          ]
        }
      ]
    },
    {
      "cell_type": "markdown",
      "source": [
        "* Indicar qué integrante tiene el texto más largo.\n",
        "\n",
        "Completar el código para encontrar la solución"
      ],
      "metadata": {
        "id": "FPtyX2FySIRw"
      }
    },
    {
      "cell_type": "code",
      "source": [
        "# recorro el diccionario\n",
        "#consulto si el valor asociado en esa key es mayor que un valor maximo\n",
        "# si es mayor actualizo la variable\n",
        "\n",
        "integranteMayor = 0\n",
        "\n",
        "for integrante in mi_dict:\n",
        "    if len(mi_dict[integrante]) > integranteMayor:\n",
        "      integranteMayor=len(mi_dict[integrante])\n",
        "      keyInte=integrante\n",
        "\n",
        "print(\"El integrante con el texto más largo es: \" + keyInte)\n",
        "print(integranteMayor)"
      ],
      "metadata": {
        "id": "lrdKO2PMN0xo",
        "colab": {
          "base_uri": "https://localhost:8080/"
        },
        "outputId": "e5f6d499-5ef4-4761-84c9-a7a69f3c9160"
      },
      "execution_count": null,
      "outputs": [
        {
          "output_type": "stream",
          "name": "stdout",
          "text": [
            "El integrante con el texto más largo es: Aylén\n",
            "819\n"
          ]
        }
      ]
    },
    {
      "cell_type": "markdown",
      "source": [
        "### Contestar\n",
        "1. Indicar qué tipos de datos se utilizaron en este documento.\n",
        "\n",
        "Respuesta: Strings, int.\n",
        "\n",
        "\n",
        "2. Por cada tipo de datos de los ejemplos, indique cuáles son las variables utilizadas en esta actividad de ese tipo.\n",
        "\n",
        "Respuesta: String: texto_completo, texto_Separado, key_inte, textocompleto, comentario, integrante\n",
        "\n",
        "Int: integranteMayor\n",
        "\n",
        "\n",
        "3. ¿Qué estructuras de datos que permite almacenar más de un elemento, utilizó en esta actividad? De los nombres de las variables que correspondan a este tipo de datos.\n",
        "\n",
        "Respuesta: La estructura de datos que permite almacenar más de un elemento son las listas y diccionarios, en esta actividad se utilizó diccionario.\n",
        "La variable que corresponde al diccionario es mi_dict\n",
        "\n",
        "4. ¿Qué estructuras de control utilizó?\n",
        "\n",
        "Respuesta: Usamos las estructuras `if`, `else` y `for`\n",
        "\n",
        "\n",
        "5. Investigar en chatgpt: ¿Qué tipos de archivos se pueden utilizar para guardar datos? Indique los formatos y las librerías que deben importarse para poder usar.\n",
        "\n",
        "Respuesta: \"Claro, aquí tienes una lista de tipos de archivos comunes para guardar datos junto con las librerías en Python que puedes importar para trabajar con ellos:\n",
        "\n",
        "1. **Archivos de texto**:\n",
        "   - Formatos: .txt, .csv, .json, .xml\n",
        "   - Librerías:\n",
        "     - Para archivos CSV: `import csv`\n",
        "     - Para archivos JSON: `import json`\n",
        "     - Para archivos XML: `import xml.etree.ElementTree`\n",
        "\n",
        "2. **Archivos de hoja de cálculo**:\n",
        "   - Formatos: .xlsx (Excel), .ods (OpenDocument Spreadsheet)\n",
        "   - Librerías:\n",
        "     - Para archivos Excel (.xlsx): `import openpyxl`\n",
        "     - Para archivos OpenDocument Spreadsheet (.ods): `import ezodf`\n",
        "\n",
        "3. **Bases de datos**:\n",
        "   - Formatos: .sqlite, .mdb (Access), .dbf\n",
        "   - Librerías:\n",
        "     - Para SQLite: `import sqlite3`\n",
        "     - Para bases de datos de Access (.mdb): `import pyodbc`\n",
        "     - Para archivos DBF: `import dbf`\n",
        "\n",
        "4. **Archivos binarios**:\n",
        "   - Formatos: .bin, .dat\n",
        "   - Librerías:\n",
        "     - Python proporciona herramientas estándar para trabajar con archivos binarios, como los módulos `struct` y `pickle`.\n",
        "\n",
        "5. **Archivos de imagen y video**:\n",
        "   - Formatos: .jpg, .png, .gif, .mp4, .avi\n",
        "   - Librerías:\n",
        "     - Para imágenes: `import PIL` (Python Imaging Library)\n",
        "     - Para video: `import cv2` (OpenCV)\n",
        "\n",
        "6. **Archivos de audio**:\n",
        "   - Formatos: .mp3, .wav, .ogg\n",
        "   - Librerías:\n",
        "     - Para trabajar con archivos de audio: `import librosa` (para análisis de señales de audio)\n",
        "\n",
        "7. **Archivos de documentos**:\n",
        "   - Formatos: .docx (Word), .pdf, .pptx (PowerPoint)\n",
        "   - Librerías:\n",
        "     - Para archivos PDF: `import PyPDF2`, `import pdfplumber` (para extraer texto e información de PDFs)\n",
        "     - Para archivos DOCX: `import docx`\""
      ],
      "metadata": {
        "id": "GZCJ7WEmBL4I"
      }
    }
  ]
}